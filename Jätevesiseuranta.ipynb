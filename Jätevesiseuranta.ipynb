{
 "cells": [
  {
   "cell_type": "markdown",
   "metadata": {},
   "source": [
    "# Koronaviruksen jätevesiseuranta\n",
    "\n",
    "Jätevesitilasto © THL (lisenssillä [CC BY 4.0](https://creativecommons.org/licenses/by/4.0/deed.fi))\n",
    "\n",
    "https://www.thl.fi/episeuranta/jatevesi/jatevesiseuranta_viikkoraportti.html"
   ]
  },
  {
   "cell_type": "code",
   "execution_count": null,
   "metadata": {},
   "outputs": [],
   "source": [
    "from datetime import datetime\n",
    "from jatevedet_fi_thl import *"
   ]
  },
  {
   "cell_type": "code",
   "execution_count": null,
   "metadata": {},
   "outputs": [],
   "source": [
    "%config InlineBackend.figure_formats = ['png2x']  # png, png2x, jpg, svg\n",
    "view_dpi = 90"
   ]
  },
  {
   "cell_type": "code",
   "execution_count": null,
   "metadata": {},
   "outputs": [],
   "source": [
    "data = pd.read_csv(\"data/Koronaviruksen jätevesiseurannan viikkoraportti 2022-10-07.csv\",\n",
    "                   parse_dates=[\"Näytteen päivämäärä\"], date_parser=datetime.fromisoformat)"
   ]
  },
  {
   "cell_type": "code",
   "execution_count": null,
   "metadata": {},
   "outputs": [],
   "source": [
    "data.iloc[:20]"
   ]
  },
  {
   "cell_type": "code",
   "execution_count": null,
   "metadata": {},
   "outputs": [],
   "source": [
    "df, dates, mittaukset_n, epvt_n, kaikki_puhdistamot = valmistele_data(data)\n",
    "\n",
    "# Valitaan viikottain päivittyvät puhdistamot\n",
    "puhdistamot = [\n",
    "    \"Helsinki, Viikinmäki\",\n",
    "    \"Espoo, Suomenoja\",\n",
    "    \"Jyväskylä, Nenäinniemi\",\n",
    "    \"Tampere, Viinikanlahti\",\n",
    "    \"Joensuu, Kuhasalo\",\n",
    "    \"Oulu, Taskila\",\n",
    "    \"Kuopio, Lehtoniemi\",\n",
    "    \"Turku, Kakolanmäki\",\n",
    "    \"Vaasa, Pått\",\n",
    "]\n",
    "muut_puhdistamot = kaikki_puhdistamot.difference(puhdistamot)\n",
    "\n",
    "# Järjestetään puhdistamot asiakasmäärien mukaan laskevasti\n",
    "asiakasmaarat = df[\"Puhdistamon asiakasmäärä\"][puhdistamot].max(axis=0)\n",
    "puhdistamot = np.array(puhdistamot)[np.argsort(asiakasmaarat)[::-1]]\n",
    "\n",
    "keskiarvot, painotetut_ka = trendien_keskiarvot(df, puhdistamot)"
   ]
  },
  {
   "cell_type": "markdown",
   "metadata": {},
   "source": [
    "## Muut puhdistamot\n",
    "\n",
    "Harvemmin kuin viikon välein päivittyvät puhdistamot ja ne puhdistamot joilla koronaviruksen jätevesiseuranta on päättynyt:"
   ]
  },
  {
   "cell_type": "code",
   "execution_count": null,
   "metadata": {},
   "outputs": [],
   "source": [
    "print(*muut_puhdistamot, sep=\"\\n\")"
   ]
  },
  {
   "cell_type": "markdown",
   "metadata": {},
   "source": [
    "## Epävarmuustekijät viimeaikaisissa näytteissä\n",
    "\n",
    "Sarakkeen [kuvauksesta](https://www.thl.fi/episeuranta/jatevesi/jatevesiseuranta_viikkoraportti.html):\n",
    "\n",
    "> Taulukkoriville on lisätty kirjainsymboli (a, b tai c), mikäli saatuun SARS-CoV-2 koronaviruksen RNA-tuloksen analysointiin liittyy yksi tai useampi tuloksen luotettavuutta heikentävä epävarmuustekijä.\n",
    "> \n",
    "> * a = näytteen lämpötila yli 15 astetta näytteen saapuessa laboratorioon.\n",
    "> * b = näytteessä on todettu määritystä häiritseviä tekijöitä (inhibitio).\n",
    "> * c = yli 14vrk viive näytteen keräämisen ja analyysin aloituksen välillä, kertanäyte tai poikkeava keräysaika.\n",
    "> * () = epävarmuustekijää ei ole testattu tai tieto puuttuu.\n"
   ]
  },
  {
   "cell_type": "code",
   "execution_count": null,
   "metadata": {},
   "outputs": [],
   "source": [
    "df[\"Epävarmuustekijät\"][puhdistamot].loc[dates].iloc[-1:-9:-1].T"
   ]
  },
  {
   "cell_type": "code",
   "execution_count": null,
   "metadata": {},
   "outputs": [],
   "source": [
    "xlim = {\n",
    "    \"left\": dates[-1] - np.timedelta64(12 * 28 + 2, \"D\"),\n",
    "    \"right\": dates[-1] + np.timedelta64(2, \"D\"),\n",
    "}"
   ]
  },
  {
   "cell_type": "markdown",
   "metadata": {},
   "source": [
    "## Historiaan suhteutettujen mittaustulosten jakauma koko maassa\n",
    "\n",
    "Kunkin puhdistamon virtaamakorjattuun dataan on sovitettu trendi (liukuva keskiarvo), joka tasoittaa viikottaista vaihtelua. Yllä tuloste ikkunan leveydestä kertoo, kuinka pitkältä aikaväliltä mittaustuloksia huomioidaan. Puhdistamon data normalisoidaan jakamalla jokainen virtaamakorjattu mittaustulos trendikäyrän maksimiarvolla. Puhdistamon mittaustuloksia verrataan siis sen omaan menneisyyteen – sen tähän asti pahimpaan epidemiatilanteeseen.\n",
    "\n",
    "Normalisoinnin yksi tarkoitus on häivyttää alueiden väliset tuntemattomat erot vakio-olosuhteissa, jotka voivat ilmetä paikallisina eroina koronan leviämiskyvyssä tai sairastuneen tuottaman jätevesisignaalin voimakkuudessa. Lisäksi normalisoitujen mittaustulosten jakauman muutokset havainnollistavat hyvin paikallisten epidemiatilanteiden muutoksia ja \"samantahtisuutta\" koko maassa.\n",
    "\n",
    "Alla olevassa kaaviossa on normalisoitujen mittaustulosten jakauma ajan funktiona."
   ]
  },
  {
   "cell_type": "code",
   "execution_count": null,
   "metadata": {
    "scrolled": false
   },
   "outputs": [],
   "source": [
    "fig, ax = jakaumakaavio(df, dates, mittaukset_n, epvt_n, puhdistamot, \n",
    "                        keskiarvot=keskiarvot,\n",
    "                        painotetut_ka=painotetut_ka,\n",
    "                        xlim_kw=xlim,\n",
    "                        dpi=view_dpi)\n",
    "muita = len(muut_puhdistamot)\n",
    "ax[0].plot(df.index, df[\"Normalisoitu RNA-lkm\"][muut_puhdistamot], \"k+\", alpha=0.4,\n",
    "           label=[\"(muiden puhdistamojen\\nmittaustulokset)\"] + [None] * (muita - 1))\n",
    "ax[0].legend(title=\"Viikoittain seuratut puhdistamot\", loc=\"upper left\")"
   ]
  },
  {
   "cell_type": "markdown",
   "metadata": {},
   "source": [
    "## Trendit"
   ]
  },
  {
   "cell_type": "code",
   "execution_count": null,
   "metadata": {},
   "outputs": [],
   "source": [
    "trendikaavio(df, puhdistamot, xlim_kw=xlim)"
   ]
  },
  {
   "cell_type": "code",
   "execution_count": null,
   "metadata": {
    "scrolled": false
   },
   "outputs": [],
   "source": [
    "N = np.cumsum([0, 3, 3, 3])\n",
    "assert N[-1] == len(puhdistamot)\n",
    "\n",
    "for i in range(len(N) - 1):\n",
    "    fig, ax = trendikaavio(df, puhdistamot[N[i]:N[i+1]],\n",
    "                           xlim_kw=xlim, \n",
    "                           ylim_kw={\"top\": 1.2},\n",
    "                           dpi=view_dpi)"
   ]
  },
  {
   "cell_type": "markdown",
   "metadata": {},
   "source": [
    "## Puhdistamojen virtaaman vaihtelu"
   ]
  },
  {
   "cell_type": "code",
   "execution_count": null,
   "metadata": {},
   "outputs": [],
   "source": [
    "virtaamat = df[\"Virtaama\"][puhdistamot]\n",
    "virtaamat_std = (virtaamat.interpolate(axis=0) - virtaamat.mean(axis=0)) / virtaamat.std(axis=0)\n",
    "virtaamat_std_m = virtaamat_std.median(axis=1)\n",
    "\n",
    "fig, ax = plt.subplots(figsize=(8, 5), dpi=view_dpi)\n",
    "plt.plot(df.index, virtaamat_std, \"C0-\", alpha=.25)\n",
    "plt.plot(df.index, virtaamat_std_m, \"k-\", label=\"mediaani\")\n",
    "plt.title(\"Standardoitu virtaama\")\n",
    "ax.xaxis.set_minor_locator(WeekdayLocator(byweekday=MO))\n",
    "ax.grid(which=\"major\", axis=\"both\", c=\"k\", alpha=0.1)\n",
    "ax.grid(which=\"minor\", axis=\"both\", c=\"k\", alpha=0.05)\n",
    "plt.xticks(rotation=30, ha=\"right\")\n",
    "plt.xlim(**xlim)\n",
    "plt.legend()"
   ]
  }
 ],
 "metadata": {
  "kernelspec": {
   "display_name": "Python 3 (ipykernel)",
   "language": "python",
   "name": "python3"
  },
  "language_info": {
   "codemirror_mode": {
    "name": "ipython",
    "version": 3
   },
   "file_extension": ".py",
   "mimetype": "text/x-python",
   "name": "python",
   "nbconvert_exporter": "python",
   "pygments_lexer": "ipython3",
   "version": "3.10.7"
  },
  "vscode": {
   "interpreter": {
    "hash": "e7370f93d1d0cde622a1f8e1c04877d8463912d04d973331ad4851f04de6915a"
   }
  }
 },
 "nbformat": 4,
 "nbformat_minor": 2
}
